{
 "cells": [
  {
   "cell_type": "code",
   "execution_count": null,
   "metadata": {},
   "outputs": [],
   "source": [
    "import random\n",
    "f = open('00-indonesian-wordlist.txt','r')\n",
    "f1 = f.readlines()\n",
    "wordlist = []\n",
    "for x in f1:\n",
    "    x = x.replace('\\n','')\n",
    "    if len(x)>=4:\n",
    "        wordlist.append(x)"
   ]
  },
  {
   "cell_type": "code",
   "execution_count": 3,
   "metadata": {},
   "outputs": [],
   "source": [
    "def TrainSatuKata():\n",
    "    acc = []\n",
    "    for word in wordlist:\n",
    "        temp = []\n",
    "        title = title.lower()\n",
    "        flagT = 0\n",
    "        flagW = 0\n",
    "        while(flagT < len(title)):\n",
    "            if word[flagW] != title[flagT]:\n",
    "                flagT += 1\n",
    "            else :\n",
    "                title = title[:flagT]+title[flagT].upper()+title[flagT+1:]\n",
    "                flagT += 1\n",
    "                flagW += 1\n",
    "        if flagW == len(word)-1:\n",
    "            if len(word) >= 4:\n",
    "                temp.append(word.replace('\\n',''))\n",
    "                temp.append(title)\n",
    "                acc.append(temp)\n",
    "    return acc"
   ]
  },
  {
   "cell_type": "markdown",
   "metadata": {},
   "source": [
    "# Judul PKM Generator v.3"
   ]
  },
  {
   "cell_type": "code",
   "execution_count": 2,
   "metadata": {},
   "outputs": [
    {
     "name": "stdout",
     "output_type": "stream",
     "text": [
      "Masukkan Judul PKM anda : aplikasi tukang sayur\n",
      "banyak karakter :  21\n",
      "51090942171709440000\n"
     ]
    }
   ],
   "source": [
    "title = input('Masukkan Judul PKM anda : ')\n",
    "print('banyak karakter : ',len(title))\n",
    "import math\n",
    "print(math.factorial(len(title)))"
   ]
  },
  {
   "cell_type": "code",
   "execution_count": null,
   "metadata": {},
   "outputs": [],
   "source": [
    "import math\n",
    "print(math.factorial(len(title)))"
   ]
  },
  {
   "cell_type": "code",
   "execution_count": 3,
   "metadata": {},
   "outputs": [
    {
     "ename": "SyntaxError",
     "evalue": "invalid syntax (<ipython-input-3-1214ddedd27d>, line 43)",
     "output_type": "error",
     "traceback": [
      "\u001b[1;36m  File \u001b[1;32m\"<ipython-input-3-1214ddedd27d>\"\u001b[1;36m, line \u001b[1;32m43\u001b[0m\n\u001b[1;33m    if l[0] is in wordlist:\u001b[0m\n\u001b[1;37m                ^\u001b[0m\n\u001b[1;31mSyntaxError\u001b[0m\u001b[1;31m:\u001b[0m invalid syntax\n"
     ]
    }
   ],
   "source": [
    "#import req lib\n",
    "import random\n",
    "import os\n",
    "from __future__ import division\n",
    "#clear screen\n",
    "clear = lambda: os.system('cls')\n",
    "#read wordlist KBBI\n",
    "f = open('00-indonesian-wordlist.txt','r')\n",
    "f1 = f.readlines()\n",
    "wordlist = []\n",
    "for x in f1:\n",
    "    x = x.replace('\\n','')\n",
    "    wordlist.append(x)\n",
    "#replace\n",
    "def replace_str_index(text,index=0,replacement=''):\n",
    "    return '%s%s%s'%(text[:index],replacement,text[index+1:])\n",
    "#find Word\n",
    "def orderedSampleWithoutReplacement(seq, sampleSize):\n",
    "    word = []\n",
    "    totalElems = len(seq)\n",
    "    if not 0<=sampleSize<=totalElems:\n",
    "        raise ValueError('Required that 0 <= sample_size <= population_size')\n",
    "\n",
    "    picksRemaining = sampleSize\n",
    "    for elemsSeen,element in enumerate(seq):\n",
    "        elemsRemaining = totalElems - elemsSeen\n",
    "        prob = picksRemaining/elemsRemaining\n",
    "        if random.random() < prob:\n",
    "            if(element != ' '):\n",
    "                word.append(element)\n",
    "                seq = replace_str_index(seq,elemsSeen,seq[elemsSeen].upper())\n",
    "                picksRemaining -= 1\n",
    "    return ''.join(word), seq\n",
    "#Input Judul\n",
    "clear()\n",
    "title = input('Judul PKM : ').lower()\n",
    "udah = False\n",
    "while not udah :\n",
    "\tclear()\n",
    "\tprint('judul yang mungkin adalah :')\n",
    "\twhile True:\n",
    "\t\tl = list(orderedSampleWithoutReplacement(title,5))\n",
    "\t\tif l[0] is in wordlist:\n",
    "        \tbreak\n",
    "    print(l[0].upper(),' : ',l[1])\n",
    "    while True:\n",
    "    \tcek = input('Setuju? [y/n] : ')\n",
    "    \tif(cek = 'y' or cek = 'Y' or cek = 'n' or cek = 'N'):\n",
    "    \t\tbreak\n",
    "    if cek = 'y' or cek = 'Y':\n",
    "    \tudah = True\n",
    "    else :\n",
    "    \tudah = False\n",
    "clear()\n",
    "print('')\n",
    "print(l[0].upper(),' : ',l[1])"
   ]
  }
 ],
 "metadata": {
  "kernelspec": {
   "display_name": "Python 3",
   "language": "python",
   "name": "python3"
  },
  "language_info": {
   "codemirror_mode": {
    "name": "ipython",
    "version": 3
   },
   "file_extension": ".py",
   "mimetype": "text/x-python",
   "name": "python",
   "nbconvert_exporter": "python",
   "pygments_lexer": "ipython3",
   "version": "3.6.5"
  }
 },
 "nbformat": 4,
 "nbformat_minor": 2
}
