{
 "cells": [
  {
   "cell_type": "code",
   "execution_count": 1,
   "metadata": {},
   "outputs": [],
   "source": [
    "import numpy as np\n",
    "import cv2\n"
   ]
  },
  {
   "cell_type": "code",
   "execution_count": 7,
   "metadata": {},
   "outputs": [
    {
     "name": "stdout",
     "output_type": "stream",
     "text": [
      "Ok 1\n",
      "Ok 2\n",
      "Ok 3\n",
      "Ok 4\n",
      "Ok 5\n",
      "Ok 6\n",
      "Ok 7\n",
      "Ok 8\n",
      "Ok 9\n",
      "Ok 10\n",
      "Ok 11\n",
      "Ok 12\n",
      "Ok 13\n",
      "Ok 14\n",
      "Ok 15\n",
      "Ok 16\n",
      "Ok 17\n",
      "Ok 18\n",
      "Ok 19\n",
      "Ok 20\n",
      "(20, 7500)\n"
     ]
    }
   ],
   "source": [
    "cam = cv2.VideoCapture(0) #setup webcam\n",
    "facec = cv2.CascadeClassifier('haarcascade_frontalface_alt.xml') #model yg telah di train muka bagian depan\n",
    "\n",
    "data = [] #siapkan list \n",
    "ix = 0  #counter\n",
    "while True:\n",
    "    ret, frame = cam.read() #hidupkan webcam , ret (status kamera menyala), frame( frame gambar dari webcam)\n",
    "    if ret == True : \n",
    "        gray = cv2.cvtColor(frame, cv2.COLOR_BGR2GRAY) #rubah gambar dari frame menjadi hitam putih\n",
    "        faces = facec.detectMultiScale(gray, 1.3, 5) #deteksi muka dengan model dan filter menjadi hitam putih\n",
    "        for (x, y, w, h) in faces: \n",
    "            face_component = frame[y:y+h, x:x+w, :] #ngambil frame\n",
    "            face_component = cv2.resize(face_component, (50, 50)).flatten() #flatten jadi array 1 dimensi\n",
    "            if (ix % 10 == 0 ) and (len(data)<20) :\n",
    "                data.append(face_component) #simpan face_component ke data\n",
    "                #print(face_component.shape)\n",
    "                print(\"Ok\", len(data)) \n",
    "            cv2.rectangle(frame, (x, y), (x+w, y+h), (0, 255, 0), 2) #gambar kotak di bagian muka\n",
    "        ix+=1\n",
    "        cv2.imshow('frame', frame) #tampilkan gambar\n",
    "        \n",
    "        if (cv2.waitKey(1)==27) or (len(data)>=20) : #jika frame muka sudah di simpan sebanyak 20 atau terjadi error, break\n",
    "            break\n",
    "    else :\n",
    "        print(\"Error cuy\")\n",
    "        break\n",
    "        \n",
    "        \n",
    "cam.release() #tutup webcam\n",
    "cv2.destroyAllWindows() #tutup jendela tampilan\n",
    "data = np.asarray(data) #ubah data jadi array\n",
    "\n",
    "print(data.shape) #lihat bentuk array data\n",
    "np.save('face_nama2', data) #simpan data\n",
    "        \n",
    "            \n",
    "        "
   ]
  },
  {
   "cell_type": "code",
   "execution_count": null,
   "metadata": {},
   "outputs": [],
   "source": []
  },
  {
   "cell_type": "code",
   "execution_count": null,
   "metadata": {},
   "outputs": [],
   "source": []
  }
 ],
 "metadata": {
  "kernelspec": {
   "display_name": "Python 3",
   "language": "python",
   "name": "python3"
  },
  "language_info": {
   "codemirror_mode": {
    "name": "ipython",
    "version": 3
   },
   "file_extension": ".py",
   "mimetype": "text/x-python",
   "name": "python",
   "nbconvert_exporter": "python",
   "pygments_lexer": "ipython3",
   "version": "3.7.1"
  }
 },
 "nbformat": 4,
 "nbformat_minor": 2
}
