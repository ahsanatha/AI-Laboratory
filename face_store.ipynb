{
 "cells": [
  {
   "cell_type": "code",
   "execution_count": 1,
   "metadata": {},
   "outputs": [],
   "source": [
    "import numpy as np\n",
    "import cv2"
   ]
  },
  {
   "cell_type": "code",
   "execution_count": 2,
   "metadata": {},
   "outputs": [],
   "source": [
    "cam = cv2.VideoCapture(0)\n",
    "face = cv2.CascadeClassifier('haarcascade_frontalface_alt.xml')\n",
    "data = []\n",
    "ix = 0"
   ]
  },
  {
   "cell_type": "code",
   "execution_count": 3,
   "metadata": {},
   "outputs": [
    {
     "name": "stdout",
     "output_type": "stream",
     "text": [
      "Captured.  1\n",
      "Captured.  2\n",
      "Captured.  3\n",
      "Captured.  4\n",
      "Captured.  5\n",
      "Captured.  6\n",
      "Captured.  7\n",
      "Captured.  8\n",
      "Captured.  9\n",
      "Captured.  10\n",
      "Captured.  11\n",
      "Captured.  12\n",
      "Captured.  13\n",
      "Captured.  14\n",
      "Captured.  15\n",
      "Captured.  16\n",
      "Captured.  17\n",
      "Captured.  18\n",
      "Captured.  19\n",
      "Captured.  20\n",
      "(20, 50, 50, 3)\n"
     ]
    }
   ],
   "source": [
    "while True:\n",
    "    ret, frame = cam.read()\n",
    "    if (ret == True):\n",
    "        gray = cv2.cvtColor(frame, cv2.COLOR_BGR2GRAY)\n",
    "        faces = face.detectMultiScale(gray, 1.3, 5)\n",
    "        for (x, y, w, h) in faces :\n",
    "            face_component = frame[y:y+h, x:x+w, :]\n",
    "            face_component = cv2.resize(face_component,(50,50))\n",
    "            if (ix % 10 == 0) and (len(data) < 20):\n",
    "                data.append(face_component)\n",
    "                print('Captured. ',len(data))\n",
    "            cv2.rectangle(frame,(x,y), (x+w,y+h), (0,255,0), 2)\n",
    "        ix += 1\n",
    "        cv2.imshow('frame : ',frame)\n",
    "        \n",
    "        if (cv2.waitKey(1)==27) or (len(data)>=20):\n",
    "            break\n",
    "    else :\n",
    "        print('something wrong cuy')\n",
    "        break\n",
    "        \n",
    "cv2.destroyAllWindows()\n",
    "data = np.asarray(data)\n",
    "\n",
    "print(data.shape)\n",
    "np.save('face_hari',data)\n"
   ]
  },
  {
   "cell_type": "code",
   "execution_count": null,
   "metadata": {},
   "outputs": [],
   "source": []
  }
 ],
 "metadata": {
  "kernelspec": {
   "display_name": "Python 3",
   "language": "python",
   "name": "python3"
  },
  "language_info": {
   "codemirror_mode": {
    "name": "ipython",
    "version": 3
   },
   "file_extension": ".py",
   "mimetype": "text/x-python",
   "name": "python",
   "nbconvert_exporter": "python",
   "pygments_lexer": "ipython3",
   "version": "3.6.5"
  }
 },
 "nbformat": 4,
 "nbformat_minor": 2
}
